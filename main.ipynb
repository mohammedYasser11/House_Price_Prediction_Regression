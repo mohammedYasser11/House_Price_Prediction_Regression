{
 "cells": [
  {
   "cell_type": "markdown",
   "id": "3245dfaa",
   "metadata": {},
   "source": [
    "# House Price Predicition"
   ]
  },
  {
   "cell_type": "markdown",
   "id": "6c290ecc",
   "metadata": {},
   "source": []
  }
 ],
 "metadata": {
  "language_info": {
   "name": "python"
  }
 },
 "nbformat": 4,
 "nbformat_minor": 5
}
